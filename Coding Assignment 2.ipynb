{
 "cells": [
  {
   "cell_type": "code",
   "execution_count": 1,
   "id": "fdb6481e",
   "metadata": {},
   "outputs": [],
   "source": [
    "#Help from the class content\n",
    "\n",
    "import pandas as pd\n",
    "with open('list.txt') as f:\n",
    "    lines = f.readlines()\n",
    "lista = []\n",
    "for line in lines:\n",
    "    num = int(line[:-1])\n",
    "    lista.append(num)\n",
    "pdframe = pd.DataFrame(lista)"
   ]
  },
  {
   "cell_type": "code",
   "execution_count": 2,
   "id": "970c3d06",
   "metadata": {},
   "outputs": [
    {
     "name": "stdout",
     "output_type": "stream",
     "text": [
      "0    1301\n",
      "dtype: int64\n",
      "0    1346\n",
      "dtype: int64\n"
     ]
    }
   ],
   "source": [
    "#q1\n",
    "print((pdframe.diff()>0).sum())\n",
    "#q2\n",
    "print((pdframe.rolling(3).sum().pct_change()>0).sum())"
   ]
  },
  {
   "cell_type": "code",
   "execution_count": null,
   "id": "62943e8c",
   "metadata": {},
   "outputs": [],
   "source": []
  },
  {
   "cell_type": "code",
   "execution_count": null,
   "id": "3895270e",
   "metadata": {},
   "outputs": [],
   "source": []
  }
 ],
 "metadata": {
  "kernelspec": {
   "display_name": "Python 3",
   "language": "python",
   "name": "python3"
  },
  "language_info": {
   "codemirror_mode": {
    "name": "ipython",
    "version": 3
   },
   "file_extension": ".py",
   "mimetype": "text/x-python",
   "name": "python",
   "nbconvert_exporter": "python",
   "pygments_lexer": "ipython3",
   "version": "3.8.8"
  }
 },
 "nbformat": 4,
 "nbformat_minor": 5
}
