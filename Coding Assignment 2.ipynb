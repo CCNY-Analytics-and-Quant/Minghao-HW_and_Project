{
 "cells": [
  {
   "cell_type": "code",
   "execution_count": 2,
   "id": "fdb6481e",
   "metadata": {},
   "outputs": [
    {
     "name": "stdout",
     "output_type": "stream",
     "text": [
      "1301\n"
     ]
    }
   ],
   "source": [
    "with open('list.txt') as f:\n",
    "    lines = f.readlines()\n",
    "init = -1 #to setup a initial value\n",
    "count = 0 #to count num of increases\n",
    "for line in lines:\n",
    "    num = int(line[:-1])\n",
    "    if init == -1:\n",
    "        init = num\n",
    "        continue\n",
    "    if num>init:\n",
    "        count += 1\n",
    "    init = num\n",
    "print(count)"
   ]
  },
  {
   "cell_type": "code",
   "execution_count": null,
   "id": "970c3d06",
   "metadata": {},
   "outputs": [],
   "source": []
  },
  {
   "cell_type": "code",
   "execution_count": null,
   "id": "62943e8c",
   "metadata": {},
   "outputs": [],
   "source": []
  },
  {
   "cell_type": "code",
   "execution_count": null,
   "id": "3895270e",
   "metadata": {},
   "outputs": [],
   "source": []
  }
 ],
 "metadata": {
  "kernelspec": {
   "display_name": "Python 3",
   "language": "python",
   "name": "python3"
  },
  "language_info": {
   "codemirror_mode": {
    "name": "ipython",
    "version": 3
   },
   "file_extension": ".py",
   "mimetype": "text/x-python",
   "name": "python",
   "nbconvert_exporter": "python",
   "pygments_lexer": "ipython3",
   "version": "3.8.8"
  }
 },
 "nbformat": 4,
 "nbformat_minor": 5
}
