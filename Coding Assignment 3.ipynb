{
 "cells": [
  {
   "cell_type": "code",
   "execution_count": 3,
   "id": "4257482a",
   "metadata": {},
   "outputs": [],
   "source": [
    "import pandas as pd\n",
    "with open('list2.txt') as f:\n",
    "    lines = f.readlines()\n",
    "lista = []\n",
    "for line in lines:\n",
    "    num = line[:-1]\n",
    "    lista.append(num)\n",
    "pdframe = pd.DataFrame(lista)"
   ]
  },
  {
   "cell_type": "code",
   "execution_count": 18,
   "id": "e6bbbd8d",
   "metadata": {},
   "outputs": [],
   "source": [
    "f = 0\n",
    "d = 0\n",
    "for item in pdframe[0]:\n",
    "\n",
    "    if 'forward' in item:\n",
    "        f += int(item[-1])\n",
    "    elif 'down' in item:\n",
    "        d += int(item[-1])\n",
    "    elif 'up' in item:\n",
    "        d = d - int(item[-1])\n",
    "answer1 = d*f\n",
    "f = 0\n",
    "d = 0\n",
    "aim=0\n",
    "for item in pdframe[0]:\n",
    "\n",
    "    if 'forward' in item:\n",
    "        f += int(item[-1])\n",
    "        d += aim*int(item[-1])\n",
    "    elif 'down' in item:\n",
    "        aim += int(item[-1])\n",
    "    elif 'up' in item:\n",
    "        aim = aim - int(item[-1])\n",
    "answer2 = f*d"
   ]
  },
  {
   "cell_type": "code",
   "execution_count": 19,
   "id": "ae9e1792",
   "metadata": {},
   "outputs": [
    {
     "name": "stdout",
     "output_type": "stream",
     "text": [
      "2102357 2101031224\n"
     ]
    }
   ],
   "source": [
    "print(answer1,answer2)"
   ]
  },
  {
   "cell_type": "code",
   "execution_count": null,
   "id": "37e209aa",
   "metadata": {},
   "outputs": [],
   "source": []
  }
 ],
 "metadata": {
  "kernelspec": {
   "display_name": "Python 3",
   "language": "python",
   "name": "python3"
  },
  "language_info": {
   "codemirror_mode": {
    "name": "ipython",
    "version": 3
   },
   "file_extension": ".py",
   "mimetype": "text/x-python",
   "name": "python",
   "nbconvert_exporter": "python",
   "pygments_lexer": "ipython3",
   "version": "3.8.8"
  }
 },
 "nbformat": 4,
 "nbformat_minor": 5
}
