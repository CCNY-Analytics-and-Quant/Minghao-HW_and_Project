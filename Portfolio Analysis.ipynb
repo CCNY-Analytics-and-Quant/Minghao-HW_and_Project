{
 "cells": [
  {
   "cell_type": "markdown",
   "id": "f9bac38f",
   "metadata": {},
   "source": [
    "Primary Objective: complete all the steps below and return the risk analysis of your seven (7) stock portfolio\n",
    "against the S&P500 (SPY), Russell 2000 (IWM), and the Dow Jones Industrial Average (DIA)."
   ]
  },
  {
   "cell_type": "markdown",
   "id": "5fddd7a4",
   "metadata": {},
   "source": [
    "Requirements:\n",
    "3. Create a correlation matrix showing the correlations between the equal-weighted portfolio, 3 ETFs, and your 7 stocks.\n",
    "4. Output these two tables and the matrix into a PDF file. You must submit both your Python code file and your PDF output file.\n"
   ]
  },
  {
   "cell_type": "code",
   "execution_count": 1,
   "id": "4ac8789b",
   "metadata": {},
   "outputs": [],
   "source": [
    "#For package verification\n",
    "#pip install yfinance\n",
    "#7 stocks picked are MSFT, AAPL, GOOG, AMD, BRK.A, JPM, and DAL\n",
    "#This part was completed thanks to the help of following documentations:\n",
    "#https://algotrading101.com/learn/yfinance-guide/\n",
    "#https://docs.python.org/3/library/datetime.html\n",
    "#https://stackoverflow.com/questions/2394235/detecting-a-us-holiday\n",
    "#https://numpy.org/doc/stable/reference/generated/numpy.cov.html\n",
    "#3. Covariance function - what's the catch?\n",
    "#4. Tracking Errors? of what?\n",
    "\n",
    "\n",
    "import yfinance as yf\n",
    "import pandas as pd\n",
    "import numpy as np\n",
    "import datetime as dt\n",
    "import holidays\n",
    "us_holidays = holidays.US()"
   ]
  },
  {
   "cell_type": "code",
   "execution_count": 51,
   "id": "4ccea0b5",
   "metadata": {},
   "outputs": [],
   "source": [
    "#Create some useful function for calculation needs\n",
    "def daily_return(stock,period):\n",
    "    #Return a list of daily returns of a certain stock\n",
    "    prices = yf.download(stock,period = period)\n",
    "    return prices['Adj Close'].pct_change()\n",
    "\n",
    "def volatility(stock, period):\n",
    "    #Calculate market volatility based on the start and end date\n",
    "    re = daily_return(stock,period)\n",
    "    sd_return = np.std(re)\n",
    "    return sd_return*np.sqrt(len(re))\n",
    "\n",
    "def calculate_beta(stock,benchmark,period):\n",
    "    #calculate covariance using stock and index info\n",
    "    stock_return = daily_return(stock,period)[1:]\n",
    "    index_return = daily_return(benchmark,period)[1:]\n",
    "    #I couldn't figure out why the covariance function does not work for the life of me, so I took it to my hands\n",
    "    i = np.array(index_return)\n",
    "    s = np.array(stock_return)\n",
    "    ai = np.mean(i)\n",
    "    sa = np.mean(s)\n",
    "    i1 = i-ai #benchmark daily return - average return\n",
    "    s1 = s-sa #stock daily return - average return \n",
    "    r = np.dot(i1,s1) #take the dot product of them to calculate covariance\n",
    "    cov = r/len(i) #divide by n - 1\n",
    "    sd_i = np.std(i)**2 #get the index variance\n",
    "    #Ideally Covariance should form something like this from pythonm, but np.cov doesn't seem to work\n",
    "    #           stock    benchmark\n",
    "    # stock    stock_var  cov\n",
    "    #benchmark cov      benchmark_var\n",
    "    #and beta is calculated using covariance of stock and benchmark/variance of stock\n",
    "    return cov/sd_i\n",
    "\n",
    "def total_return(stock,period):\n",
    "    #Calculate total return over a certian period\n",
    "    prices = yf.download(stock,period = period)\n",
    "    return (prices['Adj Close'][-1] - prices['Adj Close'][0])/prices['Adj Close'][0]\n",
    "    \n",
    "def drawdown(stock, period, mode):\n",
    "    prices = daily_return(stock,period)\n",
    "    drawdowns = prices.rolling(5).max() - prices.rolling(5).min()\n",
    "    if mode == 'a':\n",
    "        return drawdowns.mean()\n",
    "    elif mode == 'm':\n",
    "        return drawdowns.max()\n",
    "    return np.nan()"
   ]
  },
  {
   "cell_type": "code",
   "execution_count": 56,
   "id": "d8683e22",
   "metadata": {},
   "outputs": [],
   "source": [
    "#Initiate analysis\n",
    "risk_analysis = pd.DataFrame(columns=['Ticker','Portfolio Weight','Annualized Volatility(Trailing 3-month)',\n",
    "                                      'Beta vs SPY','Beta vs IWM', 'Beta vs DIA', \n",
    "                                      'Average Weekly Drawdown','Maximum Weekly Drawdown',\n",
    "                                      'Total Return over 10 years (in %)','Annualized Total Return over 10 years (in %)'])\n",
    "risk_analysis['Ticker'] = ['MSFT', 'AAPL', 'GOOG', 'AMD', 'BLK', 'JPM', 'DAL']\n",
    "\n",
    "for x in range(6):\n",
    "    risk_analysis['Portfolio Weight'][x] = 1/len(risk_analysis['Ticker'])\n",
    "\n",
    "#For task #2\n",
    "market_table = pd.DataFrame(columns = ['Ticker', 'Corr', 'Cov', 'Tracking Errors', 'Sharpe Ratio','Volatility'])\n",
    "market_tabl['Ticker'] = ['Portfolio','IWM','DIA','SPY']"
   ]
  },
  {
   "cell_type": "code",
   "execution_count": 57,
   "id": "67ababf8",
   "metadata": {
    "scrolled": true
   },
   "outputs": [
    {
     "name": "stdout",
     "output_type": "stream",
     "text": [
      "[*********************100%***********************]  1 of 1 completed\n",
      "[*********************100%***********************]  1 of 1 completed\n",
      "[*********************100%***********************]  1 of 1 completed\n",
      "[*********************100%***********************]  1 of 1 completed\n",
      "[*********************100%***********************]  1 of 1 completed\n",
      "[*********************100%***********************]  1 of 1 completed\n",
      "[*********************100%***********************]  1 of 1 completed\n",
      "[*********************100%***********************]  1 of 1 completed\n",
      "[*********************100%***********************]  1 of 1 completed\n",
      "[*********************100%***********************]  1 of 1 completed\n",
      "[*********************100%***********************]  1 of 1 completed\n",
      "[*********************100%***********************]  1 of 1 completed\n",
      "[*********************100%***********************]  1 of 1 completed\n",
      "[*********************100%***********************]  1 of 1 completed\n",
      "[*********************100%***********************]  1 of 1 completed\n",
      "[*********************100%***********************]  1 of 1 completed\n",
      "[*********************100%***********************]  1 of 1 completed\n",
      "[*********************100%***********************]  1 of 1 completed\n",
      "[*********************100%***********************]  1 of 1 completed\n",
      "[*********************100%***********************]  1 of 1 completed\n",
      "[*********************100%***********************]  1 of 1 completed\n",
      "[*********************100%***********************]  1 of 1 completed\n",
      "[*********************100%***********************]  1 of 1 completed\n",
      "[*********************100%***********************]  1 of 1 completed\n",
      "[*********************100%***********************]  1 of 1 completed\n",
      "[*********************100%***********************]  1 of 1 completed\n",
      "[*********************100%***********************]  1 of 1 completed\n",
      "[*********************100%***********************]  1 of 1 completed\n",
      "[*********************100%***********************]  1 of 1 completed\n",
      "[*********************100%***********************]  1 of 1 completed\n",
      "[*********************100%***********************]  1 of 1 completed\n",
      "[*********************100%***********************]  1 of 1 completed\n",
      "[*********************100%***********************]  1 of 1 completed\n",
      "[*********************100%***********************]  1 of 1 completed\n",
      "[*********************100%***********************]  1 of 1 completed\n",
      "[*********************100%***********************]  1 of 1 completed\n",
      "[*********************100%***********************]  1 of 1 completed\n",
      "[*********************100%***********************]  1 of 1 completed\n",
      "[*********************100%***********************]  1 of 1 completed\n",
      "[*********************100%***********************]  1 of 1 completed\n",
      "[*********************100%***********************]  1 of 1 completed\n",
      "[*********************100%***********************]  1 of 1 completed\n",
      "[*********************100%***********************]  1 of 1 completed\n",
      "[*********************100%***********************]  1 of 1 completed\n",
      "[*********************100%***********************]  1 of 1 completed\n",
      "[*********************100%***********************]  1 of 1 completed\n",
      "[*********************100%***********************]  1 of 1 completed\n",
      "[*********************100%***********************]  1 of 1 completed\n",
      "[*********************100%***********************]  1 of 1 completed\n",
      "[*********************100%***********************]  1 of 1 completed\n",
      "[*********************100%***********************]  1 of 1 completed\n",
      "[*********************100%***********************]  1 of 1 completed\n",
      "[*********************100%***********************]  1 of 1 completed\n",
      "[*********************100%***********************]  1 of 1 completed\n",
      "[*********************100%***********************]  1 of 1 completed\n",
      "[*********************100%***********************]  1 of 1 completed\n",
      "[*********************100%***********************]  1 of 1 completed\n",
      "[*********************100%***********************]  1 of 1 completed\n",
      "[*********************100%***********************]  1 of 1 completed\n",
      "[*********************100%***********************]  1 of 1 completed\n",
      "[*********************100%***********************]  1 of 1 completed\n",
      "[*********************100%***********************]  1 of 1 completed\n",
      "[*********************100%***********************]  1 of 1 completed\n",
      "[*********************100%***********************]  1 of 1 completed\n",
      "[*********************100%***********************]  1 of 1 completed\n",
      "[*********************100%***********************]  1 of 1 completed\n",
      "[*********************100%***********************]  1 of 1 completed\n",
      "[*********************100%***********************]  1 of 1 completed\n",
      "[*********************100%***********************]  1 of 1 completed\n",
      "[*********************100%***********************]  1 of 1 completed\n"
     ]
    }
   ],
   "source": [
    "#Make the table to risk_analysis\n",
    "count = 0\n",
    "for Ticker in risk_analysis['Ticker']:\n",
    "    risk_analysis['Annualized Volatility(Trailing 3-month)'][count] = volatility(Ticker,'3mo')\n",
    "    #Beta is measured against a benchmark.\n",
    "    risk_analysis['Beta vs SPY'][count] = calculate_beta(Ticker,'SPY','1y') \n",
    "    risk_analysis['Beta vs IWM'][count] = calculate_beta(Ticker,'IWM','1y') \n",
    "    risk_analysis['Beta vs DIA'][count] = calculate_beta(Ticker,'DIA','1y')\n",
    "    \n",
    "    #Find average drawdown and weekly drawdown\n",
    "    risk_analysis['Average Weekly Drawdown'][count] = drawdown(Ticker, '1y','a')\n",
    "    risk_analysis['Maximum Weekly Drawdown'][count] = drawdown(Ticker, '1y','m')\n",
    "    \n",
    "    #Find returns\n",
    "    x = total_return(Ticker,'10y')\n",
    "    risk_analysis['Total Return over 10 years (in %)'][count] = x*100\n",
    "    risk_analysis['Annualized Total Return over 10 years (in %)'][count] = ((1+x)**(1/10)- 1)*100\n",
    "    count+=1\n",
    "\n",
    "#Make the table for ETFs \n",
    "    "
   ]
  },
  {
   "cell_type": "code",
   "execution_count": 58,
   "id": "b94f0eab",
   "metadata": {},
   "outputs": [
    {
     "data": {
      "text/html": [
       "<div>\n",
       "<style scoped>\n",
       "    .dataframe tbody tr th:only-of-type {\n",
       "        vertical-align: middle;\n",
       "    }\n",
       "\n",
       "    .dataframe tbody tr th {\n",
       "        vertical-align: top;\n",
       "    }\n",
       "\n",
       "    .dataframe thead th {\n",
       "        text-align: right;\n",
       "    }\n",
       "</style>\n",
       "<table border=\"1\" class=\"dataframe\">\n",
       "  <thead>\n",
       "    <tr style=\"text-align: right;\">\n",
       "      <th></th>\n",
       "      <th>Ticker</th>\n",
       "      <th>Portfolio Weight</th>\n",
       "      <th>Annualized Volatility(Trailing 3-month)</th>\n",
       "      <th>Beta vs SPY</th>\n",
       "      <th>Beta vs IWM</th>\n",
       "      <th>Beta vs DIA</th>\n",
       "      <th>Average Weekly Drawdown</th>\n",
       "      <th>Maximum Weekly Drawdown</th>\n",
       "      <th>Total Return over 10 years (in %)</th>\n",
       "      <th>Annualized Total Return over 10 years (in %)</th>\n",
       "    </tr>\n",
       "  </thead>\n",
       "  <tbody>\n",
       "    <tr>\n",
       "      <th>0</th>\n",
       "      <td>MSFT</td>\n",
       "      <td>0.142857</td>\n",
       "      <td>0.1821</td>\n",
       "      <td>1.206691</td>\n",
       "      <td>0.76235</td>\n",
       "      <td>1.274453</td>\n",
       "      <td>0.041389</td>\n",
       "      <td>0.089921</td>\n",
       "      <td>1004.456408</td>\n",
       "      <td>27.149559</td>\n",
       "    </tr>\n",
       "    <tr>\n",
       "      <th>1</th>\n",
       "      <td>AAPL</td>\n",
       "      <td>0.142857</td>\n",
       "      <td>0.203355</td>\n",
       "      <td>1.257334</td>\n",
       "      <td>0.836188</td>\n",
       "      <td>1.363741</td>\n",
       "      <td>0.042443</td>\n",
       "      <td>0.096724</td>\n",
       "      <td>740.62005</td>\n",
       "      <td>23.725716</td>\n",
       "    </tr>\n",
       "    <tr>\n",
       "      <th>2</th>\n",
       "      <td>GOOG</td>\n",
       "      <td>0.142857</td>\n",
       "      <td>0.208643</td>\n",
       "      <td>1.282543</td>\n",
       "      <td>0.842207</td>\n",
       "      <td>1.359309</td>\n",
       "      <td>0.045554</td>\n",
       "      <td>0.110057</td>\n",
       "      <td>311.817686</td>\n",
       "      <td>15.20478</td>\n",
       "    </tr>\n",
       "    <tr>\n",
       "      <th>3</th>\n",
       "      <td>AMD</td>\n",
       "      <td>0.142857</td>\n",
       "      <td>0.331715</td>\n",
       "      <td>2.114172</td>\n",
       "      <td>1.620009</td>\n",
       "      <td>2.150486</td>\n",
       "      <td>0.083212</td>\n",
       "      <td>0.186769</td>\n",
       "      <td>2082.650596</td>\n",
       "      <td>36.112629</td>\n",
       "    </tr>\n",
       "    <tr>\n",
       "      <th>4</th>\n",
       "      <td>BLK</td>\n",
       "      <td>0.142857</td>\n",
       "      <td>0.190924</td>\n",
       "      <td>1.168208</td>\n",
       "      <td>0.844556</td>\n",
       "      <td>1.3857</td>\n",
       "      <td>0.040273</td>\n",
       "      <td>0.101379</td>\n",
       "      <td>393.392948</td>\n",
       "      <td>17.305748</td>\n",
       "    </tr>\n",
       "    <tr>\n",
       "      <th>5</th>\n",
       "      <td>JPM</td>\n",
       "      <td>0.142857</td>\n",
       "      <td>0.160153</td>\n",
       "      <td>0.874705</td>\n",
       "      <td>0.648775</td>\n",
       "      <td>1.183925</td>\n",
       "      <td>0.037571</td>\n",
       "      <td>0.080772</td>\n",
       "      <td>340.321801</td>\n",
       "      <td>15.978375</td>\n",
       "    </tr>\n",
       "    <tr>\n",
       "      <th>6</th>\n",
       "      <td>DAL</td>\n",
       "      <td>NaN</td>\n",
       "      <td>0.265372</td>\n",
       "      <td>1.390863</td>\n",
       "      <td>1.264329</td>\n",
       "      <td>1.756228</td>\n",
       "      <td>0.065516</td>\n",
       "      <td>0.177079</td>\n",
       "      <td>269.618815</td>\n",
       "      <td>13.966027</td>\n",
       "    </tr>\n",
       "  </tbody>\n",
       "</table>\n",
       "</div>"
      ],
      "text/plain": [
       "  Ticker Portfolio Weight Annualized Volatility(Trailing 3-month) Beta vs SPY  \\\n",
       "0   MSFT         0.142857                                  0.1821    1.206691   \n",
       "1   AAPL         0.142857                                0.203355    1.257334   \n",
       "2   GOOG         0.142857                                0.208643    1.282543   \n",
       "3    AMD         0.142857                                0.331715    2.114172   \n",
       "4    BLK         0.142857                                0.190924    1.168208   \n",
       "5    JPM         0.142857                                0.160153    0.874705   \n",
       "6    DAL              NaN                                0.265372    1.390863   \n",
       "\n",
       "  Beta vs IWM Beta vs DIA Average Weekly Drawdown Maximum Weekly Drawdown  \\\n",
       "0     0.76235    1.274453                0.041389                0.089921   \n",
       "1    0.836188    1.363741                0.042443                0.096724   \n",
       "2    0.842207    1.359309                0.045554                0.110057   \n",
       "3    1.620009    2.150486                0.083212                0.186769   \n",
       "4    0.844556      1.3857                0.040273                0.101379   \n",
       "5    0.648775    1.183925                0.037571                0.080772   \n",
       "6    1.264329    1.756228                0.065516                0.177079   \n",
       "\n",
       "  Total Return over 10 years (in %)  \\\n",
       "0                       1004.456408   \n",
       "1                         740.62005   \n",
       "2                        311.817686   \n",
       "3                       2082.650596   \n",
       "4                        393.392948   \n",
       "5                        340.321801   \n",
       "6                        269.618815   \n",
       "\n",
       "  Annualized Total Return over 10 years (in %)  \n",
       "0                                    27.149559  \n",
       "1                                    23.725716  \n",
       "2                                     15.20478  \n",
       "3                                    36.112629  \n",
       "4                                    17.305748  \n",
       "5                                    15.978375  \n",
       "6                                    13.966027  "
      ]
     },
     "execution_count": 58,
     "metadata": {},
     "output_type": "execute_result"
    }
   ],
   "source": [
    "risk_analysis"
   ]
  },
  {
   "cell_type": "code",
   "execution_count": 60,
   "id": "c708944f",
   "metadata": {},
   "outputs": [],
   "source": [
    "market_table = pd.DataFrame(columns = ['Ticker', 'Corr', 'Cov', 'Tracking Errors', 'Sharpe Ratio','Volatility'])\n",
    "market_table['Ticker'] = ['IWM','DIA','SPY']"
   ]
  },
  {
   "cell_type": "code",
   "execution_count": 64,
   "id": "93544839",
   "metadata": {},
   "outputs": [
    {
     "name": "stdout",
     "output_type": "stream",
     "text": [
      "[*********************100%***********************]  1 of 1 completed\n",
      "[*********************100%***********************]  1 of 1 completed\n",
      "[*********************100%***********************]  1 of 1 completed\n"
     ]
    }
   ],
   "source": [
    "returns = pd.DataFrame(index=['IWM','DIA','SPY'],columns = ['10 year return'])\n",
    "for count in returns.index:\n",
    "    returns['10 year return'][count] = total_return(count,'10y') "
   ]
  },
  {
   "cell_type": "code",
   "execution_count": 65,
   "id": "10aa7bc4",
   "metadata": {},
   "outputs": [
    {
     "data": {
      "text/html": [
       "<div>\n",
       "<style scoped>\n",
       "    .dataframe tbody tr th:only-of-type {\n",
       "        vertical-align: middle;\n",
       "    }\n",
       "\n",
       "    .dataframe tbody tr th {\n",
       "        vertical-align: top;\n",
       "    }\n",
       "\n",
       "    .dataframe thead th {\n",
       "        text-align: right;\n",
       "    }\n",
       "</style>\n",
       "<table border=\"1\" class=\"dataframe\">\n",
       "  <thead>\n",
       "    <tr style=\"text-align: right;\">\n",
       "      <th></th>\n",
       "      <th>10 year return</th>\n",
       "    </tr>\n",
       "  </thead>\n",
       "  <tbody>\n",
       "    <tr>\n",
       "      <th>IWM</th>\n",
       "      <td>1.690252</td>\n",
       "    </tr>\n",
       "    <tr>\n",
       "      <th>DIA</th>\n",
       "      <td>2.136426</td>\n",
       "    </tr>\n",
       "    <tr>\n",
       "      <th>SPY</th>\n",
       "      <td>2.567402</td>\n",
       "    </tr>\n",
       "  </tbody>\n",
       "</table>\n",
       "</div>"
      ],
      "text/plain": [
       "    10 year return\n",
       "IWM       1.690252\n",
       "DIA       2.136426\n",
       "SPY       2.567402"
      ]
     },
     "execution_count": 65,
     "metadata": {},
     "output_type": "execute_result"
    }
   ],
   "source": [
    "returns"
   ]
  },
  {
   "cell_type": "code",
   "execution_count": 140,
   "id": "a83f8a2d",
   "metadata": {},
   "outputs": [
    {
     "name": "stdout",
     "output_type": "stream",
     "text": [
      "[*********************100%***********************]  1 of 1 completed\n",
      "[*********************100%***********************]  1 of 1 completed\n"
     ]
    }
   ],
   "source": []
  },
  {
   "cell_type": "code",
   "execution_count": 141,
   "id": "e0e2d2b7",
   "metadata": {},
   "outputs": [
    {
     "data": {
      "text/plain": [
       "0.00776421711196627"
      ]
     },
     "execution_count": 141,
     "metadata": {},
     "output_type": "execute_result"
    }
   ],
   "source": [
    "\n",
    "r"
   ]
  },
  {
   "cell_type": "code",
   "execution_count": 142,
   "id": "3be3227d",
   "metadata": {},
   "outputs": [],
   "source": []
  },
  {
   "cell_type": "code",
   "execution_count": 143,
   "id": "da4d7eb0",
   "metadata": {},
   "outputs": [
    {
     "data": {
      "text/plain": [
       "1.8872586057514427"
      ]
     },
     "execution_count": 143,
     "metadata": {},
     "output_type": "execute_result"
    }
   ],
   "source": []
  },
  {
   "cell_type": "code",
   "execution_count": 136,
   "id": "e14ec7ec",
   "metadata": {},
   "outputs": [],
   "source": []
  },
  {
   "cell_type": "code",
   "execution_count": 137,
   "id": "9ffecf93",
   "metadata": {},
   "outputs": [
    {
     "data": {
      "text/plain": [
       "1.8872586057514424"
      ]
     },
     "execution_count": 137,
     "metadata": {},
     "output_type": "execute_result"
    }
   ],
   "source": []
  },
  {
   "cell_type": "code",
   "execution_count": null,
   "id": "9cf33f2c",
   "metadata": {},
   "outputs": [],
   "source": []
  }
 ],
 "metadata": {
  "kernelspec": {
   "display_name": "Python 3",
   "language": "python",
   "name": "python3"
  },
  "language_info": {
   "codemirror_mode": {
    "name": "ipython",
    "version": 3
   },
   "file_extension": ".py",
   "mimetype": "text/x-python",
   "name": "python",
   "nbconvert_exporter": "python",
   "pygments_lexer": "ipython3",
   "version": "3.8.8"
  }
 },
 "nbformat": 4,
 "nbformat_minor": 5
}
